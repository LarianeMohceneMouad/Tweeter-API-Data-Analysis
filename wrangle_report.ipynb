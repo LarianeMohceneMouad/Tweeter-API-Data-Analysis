{
 "cells": [
  {
   "cell_type": "markdown",
   "metadata": {},
   "source": [
    "## 🔴 `Data gathering`\n",
    "- I downloaded the csv file `twitter_archive_enhanced.csv` directly \n",
    "- I downloaded the tsv file `image_prediction.tsv` using `Request` library\n",
    "- I downloaded the txt file `tweet_json.txt` directly \n",
    "\n",
    "Then I read all datasets in a pandas dataframe\n",
    "\n",
    "\n",
    "## 🔴 `Assert phase` results\n",
    "\n",
    "After evaluating the three datasets visually and programmatically, I detected **15** quality problems in total and **4** tidiness issues. \n",
    "\n",
    "Starting with quality issues, where **11** quality issues were related to `twitter_archive` and **44** related to `image_prediction`, while there weren't ant qualiry issue related to `additional_data`.\n",
    "\n",
    "And about the tidiness issues, **2** issues were related to `twitter_archive` and **1** related to `additional_data`, while the last one was related to all datasets.\n",
    "\n",
    "###  `All issues documentation`\n",
    "\n",
    "#### Quality issues\n",
    "#### `twitter_archive`\n",
    "-  `1#` `timestamp` column values contain **+0000** at the end\n",
    "- `2#` `timestamp` dtype should be datetime64 instead of pandas object (string)\n",
    "- `3#` 745 missing values for the column `name`, this latter is noted as None instead of NaN\n",
    "- `4#` Wrong dog `name`s: **'a'**\n",
    "- `6#` Missing values in `doggo, floofer, pupper, puppo` are noted as None instead of NaN\n",
    "- `7#` dog steps column (after dealing with the tidiness problem) should be categorial\n",
    "- `8#` Drop none original tweets\n",
    "- `9#` Drop tweets with no images a.k.a missing `expanded_urls`\n",
    "- `10#` Delete columns = `in_reply_to_status_id`, `in_reply_to_user_id`, `retweeted_status_id`, `retweeted_status_user_id`,     `in_reply_to_user_id`, `retweeted_status_timestamp` after using them in detecting none original tweets\n",
    "- `11#` `source` column is useless and should be dropped\n",
    "\n",
    "\n",
    "#### `image_prediction.tsv` using `request` library\n",
    "\n",
    "- `1#` rename columns : `p1`, `p2`, `p3`              **to**        `class_1`, `class_2`, `class_3`\n",
    "- `2#` rename columns : `p1_conf`, `p2_conf`, `p3_conf`      **to**     `class_1_conf`, `class_2_conf`, `class_3_conf`\n",
    "- `3#` rename columns : `p1_dog`, `p2_dog`, `p3_dog`     **to**       `class_1_purebred_dog`, `class_2_purebred_dog`, `class_3_purebred_dog`\n",
    "- `4#` Weird and wrong dog classes such us : shopping_cart, desktop_computer, guinea_pig, llama, seat_belt, snail...etc\n",
    "\n",
    "#### Tidiness issues\n",
    "- `1#`  The 4 columns `doggo, floofer, pupper, puppo` represent the same column which is : **dog_step**\n",
    "- `2#` `rating_numerator` and `rating_denominator` should be in one column called `rating_(x/10)`\n",
    "- `3#`  column `id` should be `tweet_id` in `additional_data`\n",
    "- `4#` `additional_data` & `image_prediction`should be a part of `twitter_archive` "
   ]
  },
  {
   "cell_type": "markdown",
   "metadata": {},
   "source": [
    "## 🔴 `Data cleaning` process\n",
    "\n",
    "After making copies of the original datasets, I started dealing with issues related to `twitter_archive`, than `image_prediction` and at the end I delt with issues related to `additional_data`. Using Define-Code-Test method.\n",
    "\n",
    "Using libraries such as pandas, numpy and python pre-built packages, I managed to deal with almost all issues easily, other issues were quite hard such as dealing with the dog steps values in the ``tweeter_archive`` dataset and also dealing with dog breed and dog purebred columns values in the `image_predinction` dataset"
   ]
  },
  {
   "cell_type": "markdown",
   "metadata": {},
   "source": [
    "## 🔴 `Storing data` \n",
    "Saving cleaned (updated dataset)\n",
    "\n",
    "Save gathered, assessed, and cleaned master dataset to a CSV file named `twitter_archive_master.csv`."
   ]
  }
 ],
 "metadata": {
  "kernelspec": {
   "display_name": "Python 3",
   "language": "python",
   "name": "python3"
  },
  "language_info": {
   "codemirror_mode": {
    "name": "ipython",
    "version": 3
   },
   "file_extension": ".py",
   "mimetype": "text/x-python",
   "name": "python",
   "nbconvert_exporter": "python",
   "pygments_lexer": "ipython3",
   "version": "3.6.3"
  }
 },
 "nbformat": 4,
 "nbformat_minor": 2
}
